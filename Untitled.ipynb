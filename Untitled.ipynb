{
 "cells": [
  {
   "cell_type": "code",
   "execution_count": null,
   "id": "3ce704bd-c663-48f0-bcd8-48f8f1f3b28d",
   "metadata": {},
   "outputs": [],
   "source": [
    "import pyttsx3"
   ]
  },
  {
   "cell_type": "code",
   "execution_count": 1,
   "id": "380f77e3-4cdb-4f4e-88de-2aa907cab9e0",
   "metadata": {
    "scrolled": true
   },
   "outputs": [],
   "source": [
    "# Import the required module\n",
    "import pyttsx3\n",
    " \n",
    "# Create a string\n",
    "string = \"Lorem Ipsum is simply dummy text \" \\\n",
    "    + \"of the printing and typesetting industry.\"\n",
    " \n",
    "# Initialize the Pyttsx3 engine\n",
    "engine = pyttsx3.init()\n",
    " \n",
    "# We can use file extension as mp3 and wav, both will work\n",
    "engine.save_to_file(string, 'speech.wav')\n",
    " \n",
    "# Wait until above command is not finished.\n",
    "engine.runAndWait()"
   ]
  },
  {
   "cell_type": "code",
   "execution_count": null,
   "id": "ee96db2c-58fa-490c-89fd-211d8dea2007",
   "metadata": {},
   "outputs": [],
   "source": []
  },
  {
   "cell_type": "code",
   "execution_count": null,
   "id": "f5e99897-76d3-4f4b-97f0-337db7d2b9e3",
   "metadata": {},
   "outputs": [],
   "source": []
  }
 ],
 "metadata": {
  "kernelspec": {
   "display_name": "Python 3 (ipykernel)",
   "language": "python",
   "name": "python3"
  },
  "language_info": {
   "codemirror_mode": {
    "name": "ipython",
    "version": 3
   },
   "file_extension": ".py",
   "mimetype": "text/x-python",
   "name": "python",
   "nbconvert_exporter": "python",
   "pygments_lexer": "ipython3",
   "version": "3.10.12"
  }
 },
 "nbformat": 4,
 "nbformat_minor": 5
}
